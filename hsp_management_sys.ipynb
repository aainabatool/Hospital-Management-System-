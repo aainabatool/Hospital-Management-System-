{
  "cells": [
    {
      "cell_type": "markdown",
      "metadata": {
        "id": "YjciWw9ziNA6"
      },
      "source": [
        "# PROGRAMMING FOR AI\n",
        "MID TERM PROJECT"
      ]
    },
    {
      "cell_type": "markdown",
      "metadata": {
        "id": "Rs19Bm6LkUrO"
      },
      "source": [
        "## **SUBMITTED BY:**\n",
        "*   Hamdan Sethi (SP23-BAI-015)\n",
        "*   Aaina Batool (SP23-BAI-001)"
      ]
    },
    {
      "cell_type": "markdown",
      "metadata": {
        "id": "1hbZpiCBjv5w"
      },
      "source": [
        "# **TOPIC: HOSPITAL MANAGEMENT SYSTEM**"
      ]
    },
    {
      "cell_type": "markdown",
      "metadata": {
        "id": "x-6pE8DXkMy9"
      },
      "source": [
        "This project implements a Hospital Management System using Python programming. The goal of the project is to demonstrate the application of various programming concepts such as classes, functions, loops, conditionals, dictionaries, lists, strings, and Numpy. The system is designed to manage basic operations in a hospital, including patient management, doctor management, and appointment scheduling. Additionally, the data is saved in CSV format and analyzed using the Numpy library for aggregate operations, such as calculating the average number of appointments per doctor."
      ]
    },
    {
      "cell_type": "markdown",
      "metadata": {
        "id": "x7mq5jqlkt9k"
      },
      "source": [
        "# **HMS FEATURES:**\n",
        "\n",
        "\n"
      ]
    },
    {
      "cell_type": "markdown",
      "metadata": {
        "id": "ZjaeeI4VmLIh"
      },
      "source": [
        "1.   **Patient Management:**\n",
        "          Add new patients, view patient details.\n",
        "2.   **Doctor Management:**\n",
        "         Add doctors, view doctor details.\n",
        "3.   **Appointment Management:**\n",
        "          Schedule appointments between patients and doctors\n",
        "4.   **Data Persistence: **\n",
        "          Save and load data to/from CSV files.\n",
        "5.   **Data Analysis:**\n",
        "          Perform aggregate analysis using Numpy, such as calculating the average number of appointments per doctor."
      ]
    },
    {
      "cell_type": "markdown",
      "source": [
        "# **CODE:**"
      ],
      "metadata": {
        "id": "lp2SgQTlOvwe"
      }
    },
    {
      "cell_type": "code",
      "source": [
        "class Patient:\n",
        "    def __init__(self, patient_id, name, age, disease):\n",
        "        self.patient_id = patient_id\n",
        "        self.name = name\n",
        "        self.age = age\n",
        "        self.disease = disease\n",
        "\n",
        "    def __str__(self):\n",
        "        return f\"ID: {self.patient_id}, Name: {self.name}, Age: {self.age}, Disease: {self.disease}\"\n"
      ],
      "metadata": {
        "id": "N8lVEmSXOwsp"
      },
      "execution_count": null,
      "outputs": []
    },
    {
      "cell_type": "code",
      "source": [
        "class Doctor:\n",
        "    def __init__(self, doctor_id, name, specialization, years_of_experience):\n",
        "        self.doctor_id = doctor_id\n",
        "        self.name = name\n",
        "        self.specialization = specialization\n",
        "        self.years_of_experience = years_of_experience\n",
        "\n",
        "    def __str__(self):\n",
        "        return f\"ID: {self.doctor_id}, Name: {self.name}, Specialization: {self.specialization}, Experience: {self.years_of_experience} years\""
      ],
      "metadata": {
        "id": "7t-7tA-2OzML"
      },
      "execution_count": null,
      "outputs": []
    },
    {
      "cell_type": "code",
      "source": [
        "class Appointment:\n",
        "    def __init__(self, appointment_id, patient, doctor, date, time):\n",
        "        self.appointment_id = appointment_id\n",
        "        self.patient = patient\n",
        "        self.doctor = doctor\n",
        "        self.date = date\n",
        "        self.time = time\n",
        "\n",
        "    def __str__(self):\n",
        "        return f\"Appointment ID: {self.appointment_id}, Patient: {self.patient.name}, Doctor: {self.doctor.name}, Date: {self.date}, Time: {self.time}\"\n"
      ],
      "metadata": {
        "id": "JLvu1FdyPDix"
      },
      "execution_count": null,
      "outputs": []
    },
    {
      "cell_type": "code",
      "source": [
        "import csv\n",
        "import numpy as np\n",
        "\n",
        "# Dictionary to store patients, doctors, and appointments\n",
        "patients = {}\n",
        "doctors = {}\n",
        "appointments = {}\n",
        "\n",
        "# Function to add a patient\n",
        "def add_patient():\n",
        "    patient_id = input(\"Enter patient ID: \")\n",
        "    name = input(\"Enter patient name: \")\n",
        "    age = int(input(\"Enter patient age: \"))\n",
        "    disease = input(\"Enter disease: \")\n",
        "    patient = Patient(patient_id, name, age, disease)\n",
        "    patients[patient_id] = patient\n",
        "    print(\"Patient added successfully.\")\n",
        "\n",
        "# Function to add a doctor\n",
        "def add_doctor():\n",
        "    doctor_id = input(\"Enter doctor ID: \")\n",
        "    name = input(\"Enter doctor name: \")\n",
        "    specialization = input(\"Enter specialization: \")\n",
        "    years_of_experience = int(input(\"Enter years of experience: \"))\n",
        "    doctor = Doctor(doctor_id, name, specialization, years_of_experience)\n",
        "    doctors[doctor_id] = doctor\n",
        "    print(\"Doctor added successfully.\")\n",
        "\n",
        "# Function to schedule an appointment\n",
        "def schedule_appointment():\n",
        "    appointment_id = input(\"Enter appointment ID: \")\n",
        "    patient_id = input(\"Enter patient ID: \")\n",
        "    doctor_id = input(\"Enter doctor ID: \")\n",
        "    date = input(\"Enter appointment date (DD/MM/YYYY): \")\n",
        "    time = input(\"Enter appointment time (HH:MM): \")\n",
        "\n",
        "    if patient_id in patients and doctor_id in doctors:\n",
        "        patient = patients[patient_id]\n",
        "        doctor = doctors[doctor_id]\n",
        "        appointment = Appointment(appointment_id, patient, doctor, date, time)\n",
        "        appointments[appointment_id] = appointment\n",
        "        print(\"Appointment scheduled successfully.\")\n",
        "    else:\n",
        "        print(\"Invalid patient or doctor ID.\")\n",
        "\n",
        "# Function to view all patients\n",
        "def view_patients():\n",
        "    if patients:\n",
        "        for patient in patients.values():\n",
        "            print(patient)\n",
        "    else:\n",
        "        print(\"No patients found.\")\n",
        "\n",
        "# Function to view all doctors\n",
        "def view_doctors():\n",
        "    if doctors:\n",
        "        for doctor in doctors.values():\n",
        "            print(doctor)\n",
        "    else:\n",
        "        print(\"No doctors found.\")\n",
        "\n",
        "# Function to view all appointments\n",
        "def view_appointments():\n",
        "    if appointments:\n",
        "        for appointment in appointments.values():\n",
        "            print(appointment)\n",
        "    else:\n",
        "        print(\"No appointments found.\")\n",
        "\n",
        "# Function to save data to a CSV file\n",
        "def save_to_csv():\n",
        "    with open('patients.csv', 'w', newline='') as file:\n",
        "        writer = csv.writer(file)\n",
        "        writer.writerow([\"Patient ID\", \"Name\", \"Age\", \"Disease\"])\n",
        "        for patient in patients.values():\n",
        "            writer.writerow([patient.patient_id, patient.name, patient.age, patient.disease])\n",
        "\n",
        "    with open('doctors.csv', 'w', newline='') as file:\n",
        "        writer = csv.writer(file)\n",
        "        writer.writerow([\"Doctor ID\", \"Name\", \"Specialization\", \"Years of Experience\"])\n",
        "        for doctor in doctors.values():\n",
        "            writer.writerow([doctor.doctor_id, doctor.name, doctor.specialization, doctor.years_of_experience])\n",
        "\n",
        "    with open('appointments.csv', 'w', newline='') as file:\n",
        "        writer = csv.writer(file)\n",
        "        writer.writerow([\"Appointment ID\", \"Patient ID\", \"Doctor ID\", \"Date\", \"Time\"])\n",
        "        for appointment in appointments.values():\n",
        "            writer.writerow([appointment.appointment_id, appointment.patient.patient_id, appointment.doctor.doctor_id, appointment.date, appointment.time])\n",
        "\n",
        "    print(\"Data saved to CSV files.\")\n",
        "\n",
        "# Function to load data from CSV files\n",
        "def load_from_csv():\n",
        "    global patients, doctors, appointments\n",
        "    patients = {}\n",
        "    doctors = {}\n",
        "    appointments = {}\n",
        "\n",
        "    with open('patients.csv', 'r') as file:\n",
        "        reader = csv.reader(file)\n",
        "        next(reader)  # Skip header\n",
        "        for row in reader:\n",
        "            patient = Patient(row[0], row[1], int(row[2]), row[3])\n",
        "            patients[row[0]] = patient\n",
        "\n",
        "    with open('doctors.csv', 'r') as file:\n",
        "        reader = csv.reader(file)\n",
        "        next(reader)  # Skip header\n",
        "        for row in reader:\n",
        "            doctor = Doctor(row[0], row[1], row[2], int(row[3]))\n",
        "            doctors[row[0]] = doctor\n",
        "\n",
        "    with open('appointments.csv', 'r') as file:\n",
        "        reader = csv.reader(file)\n",
        "        next(reader)  # Skip header\n",
        "        for row in reader:\n",
        "            patient = patients[row[1]]\n",
        "            doctor = doctors[row[2]]\n",
        "            appointment = Appointment(row[0], patient, doctor, row[3], row[4])\n",
        "            appointments[row[0]] = appointment\n",
        "\n",
        "    print(\"Data loaded from CSV files.\")"
      ],
      "metadata": {
        "id": "2gf7TdfQPExU"
      },
      "execution_count": null,
      "outputs": []
    },
    {
      "cell_type": "code",
      "source": [
        "def aggregate_data():\n",
        "    # Convert appointment data into a list of doctors and their respective number of appointments\n",
        "    doctor_appointments = {}\n",
        "    for appointment in appointments.values():\n",
        "        doctor_id = appointment.doctor.doctor_id\n",
        "        if doctor_id not in doctor_appointments:\n",
        "            doctor_appointments[doctor_id] = 0\n",
        "        doctor_appointments[doctor_id] += 1\n",
        "\n",
        "    # Convert the counts into a numpy array\n",
        "    appointment_counts = np.array(list(doctor_appointments.values()))\n",
        "\n",
        "    # Calculate average number of appointments per doctor\n",
        "    avg_appointments = np.mean(appointment_counts)\n",
        "    print(f\"Average number of appointments per doctor: {avg_appointments:.2f}\")"
      ],
      "metadata": {
        "id": "zJIkPtXNP705"
      },
      "execution_count": null,
      "outputs": []
    },
    {
      "cell_type": "code",
      "source": [
        "def main_menu():\n",
        "    while True:\n",
        "        options = ['1. Add Patient', '2. Add Doctor', \"3. Schedule Appointment\",\n",
        "                   \"4. View Patients\", \"5. View Doctors\", \"6. View Appointments\",\n",
        "                   \"7. Save Data to CSV\", \"8. Load Data from CSV\",\n",
        "                   \"9. Perform Aggregate Analysis (Average Appointments)\", \"0. Exit\"]\n",
        "        print(\"\\nHospital Management System\")\n",
        "        print(options[0])\n",
        "        print(options[1])\n",
        "        print(options[2])\n",
        "        print(options[3])\n",
        "        print(options[4])\n",
        "        print(options[5])\n",
        "        print(options[6])\n",
        "        print(options[7])\n",
        "        print(options[8])\n",
        "        print(options[9])\n",
        "\n",
        "        choice = input(\"Enter your choice: \")\n",
        "\n",
        "        if choice == '1':\n",
        "            add_patient()\n",
        "        elif choice == '2':\n",
        "            add_doctor()\n",
        "        elif choice == '3':\n",
        "            schedule_appointment()\n",
        "        elif choice == '4':\n",
        "            view_patients()\n",
        "        elif choice == '5':\n",
        "            view_doctors()\n",
        "        elif choice == '6':\n",
        "            view_appointments()\n",
        "        elif choice == '7':\n",
        "            save_to_csv()\n",
        "        elif choice == '8':\n",
        "            load_from_csv()\n",
        "        elif choice == '9':\n",
        "            aggregate_data()\n",
        "        elif choice == '0':\n",
        "            print(\"Exiting the system.\")\n",
        "            break\n",
        "        else:\n",
        "            print(\"Invalid choice. Please try again.\")\n",
        "\n",
        "if __name__ == \"__main__\":\n",
        "    main_menu()"
      ],
      "metadata": {
        "colab": {
          "base_uri": "https://localhost:8080/"
        },
        "id": "2ybqQ-HEQOri",
        "outputId": "3238a017-7877-43a8-e54f-791e774e19a9"
      },
      "execution_count": null,
      "outputs": [
        {
          "output_type": "stream",
          "name": "stdout",
          "text": [
            "\n",
            "Hospital Management System\n",
            "1. Add Patient\n",
            "2. Add Doctor\n",
            "3. Schedule Appointment\n",
            "4. View Patients\n",
            "5. View Doctors\n",
            "6. View Appointments\n",
            "7. Save Data to CSV\n",
            "8. Load Data from CSV\n",
            "9. Perform Aggregate Analysis (Average Appointments)\n",
            "0. Exit\n",
            "Enter your choice: 1\n",
            "Enter patient ID: 001\n",
            "Enter patient name: aaina\n",
            "Enter patient age: 20\n",
            "Enter disease: kidney failure\n",
            "Patient added successfully.\n",
            "\n",
            "Hospital Management System\n",
            "1. Add Patient\n",
            "2. Add Doctor\n",
            "3. Schedule Appointment\n",
            "4. View Patients\n",
            "5. View Doctors\n",
            "6. View Appointments\n",
            "7. Save Data to CSV\n",
            "8. Load Data from CSV\n",
            "9. Perform Aggregate Analysis (Average Appointments)\n",
            "0. Exit\n",
            "Enter your choice: 2\n",
            "Enter doctor ID: 01\n",
            "Enter doctor name: rehana\n",
            "Enter specialization: nephrologist\n",
            "Enter years of experience: 34\n",
            "Doctor added successfully.\n",
            "\n",
            "Hospital Management System\n",
            "1. Add Patient\n",
            "2. Add Doctor\n",
            "3. Schedule Appointment\n",
            "4. View Patients\n",
            "5. View Doctors\n",
            "6. View Appointments\n",
            "7. Save Data to CSV\n",
            "8. Load Data from CSV\n",
            "9. Perform Aggregate Analysis (Average Appointments)\n",
            "0. Exit\n",
            "Enter your choice: 3\n",
            "Enter appointment ID: 1\n",
            "Enter patient ID: 001\n",
            "Enter doctor ID: 01\n",
            "Enter appointment date (DD/MM/YYYY): 23=3=2024\n",
            "Enter appointment time (HH:MM): 3:45\n",
            "Appointment scheduled successfully.\n",
            "\n",
            "Hospital Management System\n",
            "1. Add Patient\n",
            "2. Add Doctor\n",
            "3. Schedule Appointment\n",
            "4. View Patients\n",
            "5. View Doctors\n",
            "6. View Appointments\n",
            "7. Save Data to CSV\n",
            "8. Load Data from CSV\n",
            "9. Perform Aggregate Analysis (Average Appointments)\n",
            "0. Exit\n",
            "Enter your choice: 6\n",
            "Appointment ID: 1, Patient: aaina, Doctor: rehana, Date: 23=3=2024, Time: 3:45\n",
            "\n",
            "Hospital Management System\n",
            "1. Add Patient\n",
            "2. Add Doctor\n",
            "3. Schedule Appointment\n",
            "4. View Patients\n",
            "5. View Doctors\n",
            "6. View Appointments\n",
            "7. Save Data to CSV\n",
            "8. Load Data from CSV\n",
            "9. Perform Aggregate Analysis (Average Appointments)\n",
            "0. Exit\n",
            "Enter your choice: 7\n",
            "Data saved to CSV files.\n",
            "\n",
            "Hospital Management System\n",
            "1. Add Patient\n",
            "2. Add Doctor\n",
            "3. Schedule Appointment\n",
            "4. View Patients\n",
            "5. View Doctors\n",
            "6. View Appointments\n",
            "7. Save Data to CSV\n",
            "8. Load Data from CSV\n",
            "9. Perform Aggregate Analysis (Average Appointments)\n",
            "0. Exit\n",
            "Enter your choice: 8\n",
            "Data loaded from CSV files.\n",
            "\n",
            "Hospital Management System\n",
            "1. Add Patient\n",
            "2. Add Doctor\n",
            "3. Schedule Appointment\n",
            "4. View Patients\n",
            "5. View Doctors\n",
            "6. View Appointments\n",
            "7. Save Data to CSV\n",
            "8. Load Data from CSV\n",
            "9. Perform Aggregate Analysis (Average Appointments)\n",
            "0. Exit\n",
            "Enter your choice: 9\n",
            "Average number of appointments per doctor: 1.00\n",
            "\n",
            "Hospital Management System\n",
            "1. Add Patient\n",
            "2. Add Doctor\n",
            "3. Schedule Appointment\n",
            "4. View Patients\n",
            "5. View Doctors\n",
            "6. View Appointments\n",
            "7. Save Data to CSV\n",
            "8. Load Data from CSV\n",
            "9. Perform Aggregate Analysis (Average Appointments)\n",
            "0. Exit\n",
            "Enter your choice: 0\n",
            "Exiting the system.\n"
          ]
        }
      ]
    },
    {
      "cell_type": "code",
      "source": [],
      "metadata": {
        "id": "k5J8SsoOMofz"
      },
      "execution_count": null,
      "outputs": []
    }
  ],
  "metadata": {
    "colab": {
      "collapsed_sections": [
        "YjciWw9ziNA6",
        "x7mq5jqlkt9k"
      ],
      "toc_visible": true,
      "provenance": []
    },
    "kernelspec": {
      "display_name": "Python 3",
      "name": "python3"
    },
    "language_info": {
      "name": "python"
    }
  },
  "nbformat": 4,
  "nbformat_minor": 0
}